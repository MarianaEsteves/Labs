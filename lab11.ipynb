{
 "cells": [
  {
   "cell_type": "markdown",
   "metadata": {},
   "source": [
    "#  lab 11\n",
    "\n",
    "***Regression Analysis***\n",
    "\n",
    "Suppose you have dataset with cars (CO2_passenger_cars2018b.csv). You what to know what features contribute to the increase of CO2 emission\n",
    "\n",
    "1 Import needed libraries\n",
    "\n",
    "2 read data from file\n",
    "\n",
    "3 list dataset showing first 5 lines. View data types\n",
    "\n",
    "4 verify possible values of categoric variable Ft\n",
    "\n",
    "5 convert Petrol to PETROL and Diesel to DIESEL\n",
    "\n",
    "6 verify again values of categoric variable Ft\n",
    "\n",
    "7 convert variables 'm (kg)','ec (cm3)','ep (KW) and 'Enedc (g/km)' to numeric\n",
    "\n",
    "    If ‘raise’, then invalid parsing will raise an exception\n",
    "    If ‘coerce’, then invalid parsing will be set as NaN\n",
    "    If ‘ignore’, then invalid parsing will return the input\n",
    "\n",
    "8 remove all lines with NaN from df dataset and set to XY\n",
    "\n",
    "9 create a Y vector and X matrix\n",
    "\n",
    "10 create a regression model\n",
    "\n",
    "11 analyse correlation between variables. Use seaborn. Like for example in:\n",
    "\n",
    "    import seaborn as sns\n",
    "    import matplotlib.pyplot as plt\n",
    "    fig = plt.figure(figsize=[12, 12])\n",
    "    corr_mtx = XY.corr()\n",
    "    sns.heatmap(corr_mtx, xticklabels=corr_mtx.columns, yticklabels=corr_mtx.columns, annot=True, cmap='Blues')\n",
    "    plt.title('Correlation analysis')\n",
    "    plt.show()\n",
    "\n",
    "12 convert Ft into dummy variables\n",
    "\n",
    "13 add dummy variable to a new data set XY2\n",
    "\n",
    "14 create a Y vector and X matrix\n",
    "\n",
    "15 create a regression model\n"
   ]
  },
  {
   "cell_type": "markdown",
   "metadata": {},
   "source": []
  },
  {
   "cell_type": "code",
   "execution_count": 1,
   "metadata": {},
   "outputs": [
    {
     "name": "stderr",
     "output_type": "stream",
     "text": [
      "C:\\Users\\Federico\\Anaconda3\\lib\\site-packages\\IPython\\core\\interactiveshell.py:3049: DtypeWarning: Columns (2,5) have mixed types. Specify dtype option on import or set low_memory=False.\n",
      "  interactivity=interactivity, compiler=compiler, result=result)\n"
     ]
    },
    {
     "name": "stdout",
     "output_type": "stream",
     "text": [
      "   Fabricante CommercialName m (kg)  Enedc (g/km)      Ft ec (cm3)  ep (KW)\n",
      "0  VOLKSWAGEN           GOLF   1375         104.0  DIESEL     1598     85.0\n",
      "1  VOLKSWAGEN           GOLF   1340         119.0  PETROL     1498    110.0\n",
      "2  VOLKSWAGEN           GOLF   1320         120.0  PETROL     1498    110.0\n",
      "3  VOLKSWAGEN           POLO   1145         104.0  PETROL      999     70.0\n",
      "4  VOLKSWAGEN           POLO   1145         104.0  PETROL      999     70.0\n",
      "<class 'pandas.core.frame.DataFrame'>\n",
      "Int64Index: 936948 entries, 0 to 1048574\n",
      "Data columns (total 7 columns):\n",
      "Fabricante        936948 non-null object\n",
      "CommercialName    936948 non-null object\n",
      "m (kg)            936948 non-null object\n",
      "Enedc (g/km)      936948 non-null float64\n",
      "Ft                936948 non-null object\n",
      "ec (cm3)          936948 non-null object\n",
      "ep (KW)           936948 non-null float64\n",
      "dtypes: float64(2), object(5)\n",
      "memory usage: 57.2+ MB\n"
     ]
    }
   ],
   "source": [
    "#list dataset showing first 5 lines. View data \n",
    "#verify possible values of categoric variable Ft\n",
    "\n",
    "\n",
    "import pandas as pd\n",
    "dataframe=pd.read_csv(r\"C:\\Users\\Federico\\Dropbox\\5 tecnicas de program\\codici\\CO2_passenger_cars2018b.csv\",\",\")\n",
    "\n",
    "print(dataframe.head(5))\n",
    "\n",
    "dataframe=dataframe.dropna()\n",
    "dataframe.info()"
   ]
  },
  {
   "cell_type": "code",
   "execution_count": 2,
   "metadata": {},
   "outputs": [
    {
     "name": "stdout",
     "output_type": "stream",
     "text": [
      "        m (kg)  Enedc (g/km)\n",
      "0         1375         104.0\n",
      "1         1340         119.0\n",
      "2         1320         120.0\n",
      "3         1145         104.0\n",
      "4         1145         104.0\n",
      "5         1145         104.0\n",
      "6         1280          95.0\n",
      "7         1245         106.0\n",
      "8         1375         107.0\n",
      "9         1375         107.0\n",
      "10        1245         106.0\n",
      "11        1245         106.0\n",
      "12        1320         123.0\n",
      "13        1320         123.0\n",
      "14        1320         123.0\n",
      "15        1340         119.0\n",
      "16        1320         123.0\n",
      "17        1375         104.0\n",
      "18        1340         119.0\n",
      "19        1145         104.0\n",
      "20        1245         109.0\n",
      "21        1240         109.0\n",
      "22        1375         104.0\n",
      "23        1375         104.0\n",
      "24        1375         107.0\n",
      "25        1245         106.0\n",
      "26        1245         106.0\n",
      "27        1340         119.0\n",
      "28        1320         123.0\n",
      "29        1375         107.0\n",
      "...        ...           ...\n",
      "1048545   1050         104.0\n",
      "1048546   1050         104.0\n",
      "1048547   1050         104.0\n",
      "1048548   1050         104.0\n",
      "1048549   1050         104.0\n",
      "1048550   1050         104.0\n",
      "1048551   1050         104.0\n",
      "1048552   1050         104.0\n",
      "1048553   1050         104.0\n",
      "1048554   1050         104.0\n",
      "1048555   1050         104.0\n",
      "1048556   1050         104.0\n",
      "1048557   1050         104.0\n",
      "1048558   1050         104.0\n",
      "1048559   1050         104.0\n",
      "1048560   1050         104.0\n",
      "1048561   1050         104.0\n",
      "1048562   1050         104.0\n",
      "1048563   1050         104.0\n",
      "1048564   1050         104.0\n",
      "1048565   1050         104.0\n",
      "1048566   1050         104.0\n",
      "1048567   1050         104.0\n",
      "1048568   1050         104.0\n",
      "1048569   1050         104.0\n",
      "1048570   1050         104.0\n",
      "1048571   1050         104.0\n",
      "1048572   1050         104.0\n",
      "1048573   1050         104.0\n",
      "1048574   1050         104.0\n",
      "\n",
      "[936948 rows x 2 columns]\n"
     ]
    }
   ],
   "source": [
    "#select stuff in a data frame \n",
    "\n",
    "o=dataframe[['m (kg)','Enedc (g/km)']]\n",
    "print(o)"
   ]
  },
  {
   "cell_type": "code",
   "execution_count": 3,
   "metadata": {},
   "outputs": [],
   "source": [
    "#convert variables 'm (kg)','ec (cm3)','ep (KW) and 'Enedc (g/km)' to numeric\n",
    "\n",
    "dataframe.iloc[:,2]=pd.to_numeric(dataframe.iloc[:,2], errors='coerce')\n",
    "\n",
    "dataframe.iloc[:,3]=pd.to_numeric(dataframe.iloc[:,3], errors='coerce')\n",
    "\n"
   ]
  },
  {
   "cell_type": "code",
   "execution_count": 4,
   "metadata": {},
   "outputs": [],
   "source": [
    "dataframe.iloc[:,5]=pd.to_numeric(dataframe.iloc[:,5], errors='coerce')\n"
   ]
  },
  {
   "cell_type": "code",
   "execution_count": 5,
   "metadata": {},
   "outputs": [],
   "source": [
    "dataframe.iloc[:,6]=pd.to_numeric(dataframe.iloc[:,6], errors='coerce')\n"
   ]
  },
  {
   "cell_type": "code",
   "execution_count": null,
   "metadata": {},
   "outputs": [],
   "source": [
    "\n"
   ]
  },
  {
   "cell_type": "code",
   "execution_count": null,
   "metadata": {},
   "outputs": [],
   "source": []
  },
  {
   "cell_type": "code",
   "execution_count": 6,
   "metadata": {},
   "outputs": [
    {
     "data": {
      "text/plain": [
       "Fabricante         object\n",
       "CommercialName     object\n",
       "m (kg)            float64\n",
       "Enedc (g/km)      float64\n",
       "Ft                 object\n",
       "ec (cm3)          float64\n",
       "ep (KW)           float64\n",
       "dtype: object"
      ]
     },
     "execution_count": 6,
     "metadata": {},
     "output_type": "execute_result"
    }
   ],
   "source": [
    "dataframe.dtypes\n",
    "\n"
   ]
  },
  {
   "cell_type": "code",
   "execution_count": 7,
   "metadata": {},
   "outputs": [],
   "source": [
    "\n",
    "#8 remove all lines with NaN from df dataset and set to XY\n",
    "#9 create a Y vector and X matrix\n",
    "#10 create a regression model\n",
    "#11 analyse correlation between variables. Use seaborn. Like for example in:\n",
    "#import seaborn as sns\n",
    "#import matplotlib.pyplot as plt\n",
    "#fig = plt.figure(figsize=[12, 12])\n",
    "#corr_mtx = XY.corr()\n",
    "#sns.heatmap(corr_mtx, xticklabels=corr_mtx.columns, yticklabels=corr_mtx.columns, annot=True, cmap='Blues')\n",
    "#plt.title('Correlation analysis')\n",
    "#plt.show()\n",
    "#12 convert Ft into dummy variables\n",
    "#13 add dummy variable to a new data set XY2\n",
    "#14 create a Y vector and X matrix\n",
    "#15 create a regression model"
   ]
  },
  {
   "cell_type": "code",
   "execution_count": 8,
   "metadata": {},
   "outputs": [],
   "source": [
    "y=dataframe[['m (kg)']]\n"
   ]
  },
  {
   "cell_type": "code",
   "execution_count": 9,
   "metadata": {},
   "outputs": [
    {
     "name": "stdout",
     "output_type": "stream",
     "text": [
      "         m (kg)\n",
      "0        1375.0\n",
      "1        1340.0\n",
      "2        1320.0\n",
      "3        1145.0\n",
      "4        1145.0\n",
      "5        1145.0\n",
      "6        1280.0\n",
      "7        1245.0\n",
      "8        1375.0\n",
      "9        1375.0\n",
      "10       1245.0\n",
      "11       1245.0\n",
      "12       1320.0\n",
      "13       1320.0\n",
      "14       1320.0\n",
      "15       1340.0\n",
      "16       1320.0\n",
      "17       1375.0\n",
      "18       1340.0\n",
      "19       1145.0\n",
      "20       1245.0\n",
      "21       1240.0\n",
      "22       1375.0\n",
      "23       1375.0\n",
      "24       1375.0\n",
      "25       1245.0\n",
      "26       1245.0\n",
      "27       1340.0\n",
      "28       1320.0\n",
      "29       1375.0\n",
      "...         ...\n",
      "1048545  1050.0\n",
      "1048546  1050.0\n",
      "1048547  1050.0\n",
      "1048548  1050.0\n",
      "1048549  1050.0\n",
      "1048550  1050.0\n",
      "1048551  1050.0\n",
      "1048552  1050.0\n",
      "1048553  1050.0\n",
      "1048554  1050.0\n",
      "1048555  1050.0\n",
      "1048556  1050.0\n",
      "1048557  1050.0\n",
      "1048558  1050.0\n",
      "1048559  1050.0\n",
      "1048560  1050.0\n",
      "1048561  1050.0\n",
      "1048562  1050.0\n",
      "1048563  1050.0\n",
      "1048564  1050.0\n",
      "1048565  1050.0\n",
      "1048566  1050.0\n",
      "1048567  1050.0\n",
      "1048568  1050.0\n",
      "1048569  1050.0\n",
      "1048570  1050.0\n",
      "1048571  1050.0\n",
      "1048572  1050.0\n",
      "1048573  1050.0\n",
      "1048574  1050.0\n",
      "\n",
      "[936948 rows x 1 columns]\n"
     ]
    }
   ],
   "source": [
    "print(y)"
   ]
  },
  {
   "cell_type": "code",
   "execution_count": 10,
   "metadata": {},
   "outputs": [
    {
     "name": "stdout",
     "output_type": "stream",
     "text": [
      "         Fabricante CommercialName  m (kg)  Enedc (g/km)      Ft  ec (cm3)  \\\n",
      "0        VOLKSWAGEN           GOLF  1375.0         104.0  DIESEL    1598.0   \n",
      "1        VOLKSWAGEN           GOLF  1340.0         119.0  PETROL    1498.0   \n",
      "2        VOLKSWAGEN           GOLF  1320.0         120.0  PETROL    1498.0   \n",
      "3        VOLKSWAGEN           POLO  1145.0         104.0  PETROL     999.0   \n",
      "4        VOLKSWAGEN           POLO  1145.0         104.0  PETROL     999.0   \n",
      "5        VOLKSWAGEN           POLO  1145.0         104.0  PETROL     999.0   \n",
      "6           RENAULT         MEGANE  1280.0          95.0  DIESEL    1461.0   \n",
      "7        VOLKSWAGEN           GOLF  1245.0         106.0  PETROL     999.0   \n",
      "8        VOLKSWAGEN           GOLF  1375.0         107.0  DIESEL    1598.0   \n",
      "9        VOLKSWAGEN           GOLF  1375.0         107.0  DIESEL    1598.0   \n",
      "10       VOLKSWAGEN           GOLF  1245.0         106.0  PETROL     999.0   \n",
      "11       VOLKSWAGEN           GOLF  1245.0         106.0  PETROL     999.0   \n",
      "12       VOLKSWAGEN           GOLF  1320.0         123.0  PETROL    1498.0   \n",
      "13       VOLKSWAGEN           GOLF  1320.0         123.0  PETROL    1498.0   \n",
      "14       VOLKSWAGEN           GOLF  1320.0         123.0  PETROL    1498.0   \n",
      "15       VOLKSWAGEN           GOLF  1340.0         119.0  PETROL    1498.0   \n",
      "16       VOLKSWAGEN           GOLF  1320.0         123.0  PETROL    1498.0   \n",
      "17       VOLKSWAGEN           GOLF  1375.0         104.0  DIESEL    1598.0   \n",
      "18       VOLKSWAGEN           GOLF  1340.0         119.0  PETROL    1498.0   \n",
      "19       VOLKSWAGEN           POLO  1145.0         104.0  PETROL     999.0   \n",
      "20       VOLKSWAGEN           GOLF  1245.0         109.0  PETROL     999.0   \n",
      "21       VOLKSWAGEN           GOLF  1240.0         109.0  PETROL     999.0   \n",
      "22       VOLKSWAGEN           GOLF  1375.0         104.0  DIESEL    1598.0   \n",
      "23       VOLKSWAGEN           GOLF  1375.0         104.0  DIESEL    1598.0   \n",
      "24       VOLKSWAGEN           GOLF  1375.0         107.0  DIESEL    1598.0   \n",
      "25       VOLKSWAGEN           GOLF  1245.0         106.0  PETROL     999.0   \n",
      "26       VOLKSWAGEN           GOLF  1245.0         106.0  PETROL     999.0   \n",
      "27       VOLKSWAGEN           GOLF  1340.0         119.0  PETROL    1498.0   \n",
      "28       VOLKSWAGEN           GOLF  1320.0         123.0  PETROL    1498.0   \n",
      "29       VOLKSWAGEN           GOLF  1375.0         107.0  DIESEL    1598.0   \n",
      "...             ...            ...     ...           ...     ...       ...   \n",
      "1048545     PEUGEOT            208  1050.0         104.0  Petrol    1199.0   \n",
      "1048546     PEUGEOT            208  1050.0         104.0  Petrol    1199.0   \n",
      "1048547     PEUGEOT            208  1050.0         104.0  Petrol    1199.0   \n",
      "1048548     PEUGEOT            208  1050.0         104.0  Petrol    1199.0   \n",
      "1048549     PEUGEOT            208  1050.0         104.0  Petrol    1199.0   \n",
      "1048550     PEUGEOT            208  1050.0         104.0  Petrol    1199.0   \n",
      "1048551     PEUGEOT            208  1050.0         104.0  Petrol    1199.0   \n",
      "1048552     PEUGEOT            208  1050.0         104.0  Petrol    1199.0   \n",
      "1048553     PEUGEOT            208  1050.0         104.0  Petrol    1199.0   \n",
      "1048554     PEUGEOT            208  1050.0         104.0  Petrol    1199.0   \n",
      "1048555     PEUGEOT            208  1050.0         104.0  Petrol    1199.0   \n",
      "1048556     PEUGEOT            208  1050.0         104.0  Petrol    1199.0   \n",
      "1048557     PEUGEOT            208  1050.0         104.0  Petrol    1199.0   \n",
      "1048558     PEUGEOT            208  1050.0         104.0  Petrol    1199.0   \n",
      "1048559     PEUGEOT            208  1050.0         104.0  Petrol    1199.0   \n",
      "1048560     PEUGEOT            208  1050.0         104.0  Petrol    1199.0   \n",
      "1048561     PEUGEOT            208  1050.0         104.0  Petrol    1199.0   \n",
      "1048562     PEUGEOT            208  1050.0         104.0  Petrol    1199.0   \n",
      "1048563     PEUGEOT            208  1050.0         104.0  Petrol    1199.0   \n",
      "1048564     PEUGEOT            208  1050.0         104.0  Petrol    1199.0   \n",
      "1048565     PEUGEOT            208  1050.0         104.0  Petrol    1199.0   \n",
      "1048566     PEUGEOT            208  1050.0         104.0  Petrol    1199.0   \n",
      "1048567     PEUGEOT            208  1050.0         104.0  Petrol    1199.0   \n",
      "1048568     PEUGEOT            208  1050.0         104.0  Petrol    1199.0   \n",
      "1048569     PEUGEOT            208  1050.0         104.0  Petrol    1199.0   \n",
      "1048570     PEUGEOT            208  1050.0         104.0  Petrol    1199.0   \n",
      "1048571     PEUGEOT            208  1050.0         104.0  Petrol    1199.0   \n",
      "1048572     PEUGEOT            208  1050.0         104.0  Petrol    1199.0   \n",
      "1048573     PEUGEOT            208  1050.0         104.0  Petrol    1199.0   \n",
      "1048574     PEUGEOT            208  1050.0         104.0  Petrol    1199.0   \n",
      "\n",
      "         ep (KW)  \n",
      "0           85.0  \n",
      "1          110.0  \n",
      "2          110.0  \n",
      "3           70.0  \n",
      "4           70.0  \n",
      "5           70.0  \n",
      "6           81.0  \n",
      "7           85.0  \n",
      "8           85.0  \n",
      "9           85.0  \n",
      "10          85.0  \n",
      "11          85.0  \n",
      "12         110.0  \n",
      "13         110.0  \n",
      "14         110.0  \n",
      "15         110.0  \n",
      "16         110.0  \n",
      "17          85.0  \n",
      "18         110.0  \n",
      "19          70.0  \n",
      "20          85.0  \n",
      "21          63.0  \n",
      "22          85.0  \n",
      "23          85.0  \n",
      "24          85.0  \n",
      "25          85.0  \n",
      "26          85.0  \n",
      "27         110.0  \n",
      "28         110.0  \n",
      "29          85.0  \n",
      "...          ...  \n",
      "1048545     60.0  \n",
      "1048546     60.0  \n",
      "1048547     60.0  \n",
      "1048548     60.0  \n",
      "1048549     60.0  \n",
      "1048550     60.0  \n",
      "1048551     60.0  \n",
      "1048552     60.0  \n",
      "1048553     60.0  \n",
      "1048554     60.0  \n",
      "1048555     60.0  \n",
      "1048556     60.0  \n",
      "1048557     60.0  \n",
      "1048558     60.0  \n",
      "1048559     60.0  \n",
      "1048560     60.0  \n",
      "1048561     60.0  \n",
      "1048562     60.0  \n",
      "1048563     60.0  \n",
      "1048564     60.0  \n",
      "1048565     60.0  \n",
      "1048566     60.0  \n",
      "1048567     60.0  \n",
      "1048568     60.0  \n",
      "1048569     60.0  \n",
      "1048570     60.0  \n",
      "1048571     60.0  \n",
      "1048572     60.0  \n",
      "1048573     60.0  \n",
      "1048574     60.0  \n",
      "\n",
      "[936948 rows x 7 columns]\n"
     ]
    }
   ],
   "source": [
    "print(dataframe)"
   ]
  },
  {
   "cell_type": "code",
   "execution_count": 11,
   "metadata": {},
   "outputs": [
    {
     "data": {
      "text/html": [
       "<div>\n",
       "<style scoped>\n",
       "    .dataframe tbody tr th:only-of-type {\n",
       "        vertical-align: middle;\n",
       "    }\n",
       "\n",
       "    .dataframe tbody tr th {\n",
       "        vertical-align: top;\n",
       "    }\n",
       "\n",
       "    .dataframe thead th {\n",
       "        text-align: right;\n",
       "    }\n",
       "</style>\n",
       "<table border=\"1\" class=\"dataframe\">\n",
       "  <thead>\n",
       "    <tr style=\"text-align: right;\">\n",
       "      <th></th>\n",
       "      <th>Enedc (g/km)</th>\n",
       "      <th>ec (cm3)</th>\n",
       "      <th>m (kg)</th>\n",
       "    </tr>\n",
       "  </thead>\n",
       "  <tbody>\n",
       "    <tr>\n",
       "      <th>0</th>\n",
       "      <td>104.0</td>\n",
       "      <td>1598.0</td>\n",
       "      <td>1375.0</td>\n",
       "    </tr>\n",
       "    <tr>\n",
       "      <th>1</th>\n",
       "      <td>119.0</td>\n",
       "      <td>1498.0</td>\n",
       "      <td>1340.0</td>\n",
       "    </tr>\n",
       "    <tr>\n",
       "      <th>2</th>\n",
       "      <td>120.0</td>\n",
       "      <td>1498.0</td>\n",
       "      <td>1320.0</td>\n",
       "    </tr>\n",
       "    <tr>\n",
       "      <th>3</th>\n",
       "      <td>104.0</td>\n",
       "      <td>999.0</td>\n",
       "      <td>1145.0</td>\n",
       "    </tr>\n",
       "    <tr>\n",
       "      <th>4</th>\n",
       "      <td>104.0</td>\n",
       "      <td>999.0</td>\n",
       "      <td>1145.0</td>\n",
       "    </tr>\n",
       "  </tbody>\n",
       "</table>\n",
       "</div>"
      ],
      "text/plain": [
       "   Enedc (g/km)  ec (cm3)  m (kg)\n",
       "0         104.0    1598.0  1375.0\n",
       "1         119.0    1498.0  1340.0\n",
       "2         120.0    1498.0  1320.0\n",
       "3         104.0     999.0  1145.0\n",
       "4         104.0     999.0  1145.0"
      ]
     },
     "execution_count": 11,
     "metadata": {},
     "output_type": "execute_result"
    }
   ],
   "source": [
    "x=dataframe[['Enedc (g/km)','ec (cm3)','m (kg)']]\n",
    "x.head(5)"
   ]
  },
  {
   "cell_type": "code",
   "execution_count": 12,
   "metadata": {},
   "outputs": [
    {
     "data": {
      "text/html": [
       "<div>\n",
       "<style scoped>\n",
       "    .dataframe tbody tr th:only-of-type {\n",
       "        vertical-align: middle;\n",
       "    }\n",
       "\n",
       "    .dataframe tbody tr th {\n",
       "        vertical-align: top;\n",
       "    }\n",
       "\n",
       "    .dataframe thead th {\n",
       "        text-align: right;\n",
       "    }\n",
       "</style>\n",
       "<table border=\"1\" class=\"dataframe\">\n",
       "  <thead>\n",
       "    <tr style=\"text-align: right;\">\n",
       "      <th></th>\n",
       "      <th>m (kg)</th>\n",
       "    </tr>\n",
       "  </thead>\n",
       "  <tbody>\n",
       "    <tr>\n",
       "      <th>0</th>\n",
       "      <td>1375.0</td>\n",
       "    </tr>\n",
       "    <tr>\n",
       "      <th>1</th>\n",
       "      <td>1340.0</td>\n",
       "    </tr>\n",
       "    <tr>\n",
       "      <th>2</th>\n",
       "      <td>1320.0</td>\n",
       "    </tr>\n",
       "    <tr>\n",
       "      <th>3</th>\n",
       "      <td>1145.0</td>\n",
       "    </tr>\n",
       "    <tr>\n",
       "      <th>4</th>\n",
       "      <td>1145.0</td>\n",
       "    </tr>\n",
       "  </tbody>\n",
       "</table>\n",
       "</div>"
      ],
      "text/plain": [
       "   m (kg)\n",
       "0  1375.0\n",
       "1  1340.0\n",
       "2  1320.0\n",
       "3  1145.0\n",
       "4  1145.0"
      ]
     },
     "execution_count": 12,
     "metadata": {},
     "output_type": "execute_result"
    }
   ],
   "source": [
    "y.head(5)"
   ]
  },
  {
   "cell_type": "code",
   "execution_count": 13,
   "metadata": {},
   "outputs": [],
   "source": [
    "import seaborn as sns\n",
    "import matplotlib.pyplot as plt\n",
    "\n"
   ]
  },
  {
   "cell_type": "code",
   "execution_count": null,
   "metadata": {},
   "outputs": [],
   "source": []
  },
  {
   "cell_type": "code",
   "execution_count": null,
   "metadata": {},
   "outputs": [],
   "source": []
  },
  {
   "cell_type": "code",
   "execution_count": 14,
   "metadata": {},
   "outputs": [
    {
     "data": {
      "text/plain": [
       "array([-7.9990059e-10])"
      ]
     },
     "execution_count": 14,
     "metadata": {},
     "output_type": "execute_result"
    }
   ],
   "source": [
    "\n",
    "\n",
    "\n",
    "from sklearn.linear_model import LinearRegression\n",
    "\n",
    "regression = LinearRegression()\n",
    "model = regression.fit(x, y)\n",
    "\n",
    "\n",
    "model.intercept_\n",
    "\n"
   ]
  },
  {
   "cell_type": "code",
   "execution_count": 15,
   "metadata": {},
   "outputs": [
    {
     "data": {
      "text/plain": [
       "array([[ 3.08904118e-12, -2.74891221e-13,  1.00000000e+00]])"
      ]
     },
     "execution_count": 15,
     "metadata": {},
     "output_type": "execute_result"
    }
   ],
   "source": [
    "model.coef_"
   ]
  },
  {
   "cell_type": "code",
   "execution_count": 16,
   "metadata": {},
   "outputs": [
    {
     "data": {
      "text/plain": [
       "1.0"
      ]
     },
     "execution_count": 16,
     "metadata": {},
     "output_type": "execute_result"
    }
   ],
   "source": [
    "model.score(x,y)"
   ]
  },
  {
   "cell_type": "code",
   "execution_count": null,
   "metadata": {},
   "outputs": [],
   "source": []
  },
  {
   "cell_type": "code",
   "execution_count": 17,
   "metadata": {},
   "outputs": [],
   "source": [
    "\n",
    "corr_mtx = x.corr()"
   ]
  },
  {
   "cell_type": "code",
   "execution_count": 18,
   "metadata": {},
   "outputs": [
    {
     "name": "stdout",
     "output_type": "stream",
     "text": [
      "              Enedc (g/km)  ec (cm3)    m (kg)\n",
      "Enedc (g/km)      1.000000  0.577439  0.623323\n",
      "ec (cm3)          0.577439  1.000000  0.774332\n",
      "m (kg)            0.623323  0.774332  1.000000\n"
     ]
    }
   ],
   "source": [
    "print(corr_mtx)"
   ]
  },
  {
   "cell_type": "code",
   "execution_count": 19,
   "metadata": {},
   "outputs": [
    {
     "data": {
      "image/png": "[encoded data removed]",
      "text/plain": [
       "<Figure size 432x288 with 2 Axes>"
      ]
     },
     "metadata": {
      "needs_background": "light"
     },
     "output_type": "display_data"
    }
   ],
   "source": [
    "sns.heatmap(corr_mtx, xticklabels=corr_mtx.columns, yticklabels=corr_mtx.columns, annot=True, cmap='Blues')\n",
    "plt.title('Correlation analysis')\n",
    "plt.show()"
   ]
  },
  {
   "cell_type": "code",
   "execution_count": 20,
   "metadata": {},
   "outputs": [
    {
     "name": "stdout",
     "output_type": "stream",
     "text": [
      "         Fabricante CommercialName  m (kg)  Enedc (g/km)      Ft  ec (cm3)  \\\n",
      "0        VOLKSWAGEN           GOLF  1375.0         104.0  DIESEL    1598.0   \n",
      "1        VOLKSWAGEN           GOLF  1340.0         119.0  PETROL    1498.0   \n",
      "2        VOLKSWAGEN           GOLF  1320.0         120.0  PETROL    1498.0   \n",
      "3        VOLKSWAGEN           POLO  1145.0         104.0  PETROL     999.0   \n",
      "4        VOLKSWAGEN           POLO  1145.0         104.0  PETROL     999.0   \n",
      "5        VOLKSWAGEN           POLO  1145.0         104.0  PETROL     999.0   \n",
      "6           RENAULT         MEGANE  1280.0          95.0  DIESEL    1461.0   \n",
      "7        VOLKSWAGEN           GOLF  1245.0         106.0  PETROL     999.0   \n",
      "8        VOLKSWAGEN           GOLF  1375.0         107.0  DIESEL    1598.0   \n",
      "9        VOLKSWAGEN           GOLF  1375.0         107.0  DIESEL    1598.0   \n",
      "10       VOLKSWAGEN           GOLF  1245.0         106.0  PETROL     999.0   \n",
      "11       VOLKSWAGEN           GOLF  1245.0         106.0  PETROL     999.0   \n",
      "12       VOLKSWAGEN           GOLF  1320.0         123.0  PETROL    1498.0   \n",
      "13       VOLKSWAGEN           GOLF  1320.0         123.0  PETROL    1498.0   \n",
      "14       VOLKSWAGEN           GOLF  1320.0         123.0  PETROL    1498.0   \n",
      "15       VOLKSWAGEN           GOLF  1340.0         119.0  PETROL    1498.0   \n",
      "16       VOLKSWAGEN           GOLF  1320.0         123.0  PETROL    1498.0   \n",
      "17       VOLKSWAGEN           GOLF  1375.0         104.0  DIESEL    1598.0   \n",
      "18       VOLKSWAGEN           GOLF  1340.0         119.0  PETROL    1498.0   \n",
      "19       VOLKSWAGEN           POLO  1145.0         104.0  PETROL     999.0   \n",
      "20       VOLKSWAGEN           GOLF  1245.0         109.0  PETROL     999.0   \n",
      "21       VOLKSWAGEN           GOLF  1240.0         109.0  PETROL     999.0   \n",
      "22       VOLKSWAGEN           GOLF  1375.0         104.0  DIESEL    1598.0   \n",
      "23       VOLKSWAGEN           GOLF  1375.0         104.0  DIESEL    1598.0   \n",
      "24       VOLKSWAGEN           GOLF  1375.0         107.0  DIESEL    1598.0   \n",
      "25       VOLKSWAGEN           GOLF  1245.0         106.0  PETROL     999.0   \n",
      "26       VOLKSWAGEN           GOLF  1245.0         106.0  PETROL     999.0   \n",
      "27       VOLKSWAGEN           GOLF  1340.0         119.0  PETROL    1498.0   \n",
      "28       VOLKSWAGEN           GOLF  1320.0         123.0  PETROL    1498.0   \n",
      "29       VOLKSWAGEN           GOLF  1375.0         107.0  DIESEL    1598.0   \n",
      "...             ...            ...     ...           ...     ...       ...   \n",
      "1048545     PEUGEOT            208  1050.0         104.0  PETROL    1199.0   \n",
      "1048546     PEUGEOT            208  1050.0         104.0  PETROL    1199.0   \n",
      "1048547     PEUGEOT            208  1050.0         104.0  PETROL    1199.0   \n",
      "1048548     PEUGEOT            208  1050.0         104.0  PETROL    1199.0   \n",
      "1048549     PEUGEOT            208  1050.0         104.0  PETROL    1199.0   \n",
      "1048550     PEUGEOT            208  1050.0         104.0  PETROL    1199.0   \n",
      "1048551     PEUGEOT            208  1050.0         104.0  PETROL    1199.0   \n",
      "1048552     PEUGEOT            208  1050.0         104.0  PETROL    1199.0   \n",
      "1048553     PEUGEOT            208  1050.0         104.0  PETROL    1199.0   \n",
      "1048554     PEUGEOT            208  1050.0         104.0  PETROL    1199.0   \n",
      "1048555     PEUGEOT            208  1050.0         104.0  PETROL    1199.0   \n",
      "1048556     PEUGEOT            208  1050.0         104.0  PETROL    1199.0   \n",
      "1048557     PEUGEOT            208  1050.0         104.0  PETROL    1199.0   \n",
      "1048558     PEUGEOT            208  1050.0         104.0  PETROL    1199.0   \n",
      "1048559     PEUGEOT            208  1050.0         104.0  PETROL    1199.0   \n",
      "1048560     PEUGEOT            208  1050.0         104.0  PETROL    1199.0   \n",
      "1048561     PEUGEOT            208  1050.0         104.0  PETROL    1199.0   \n",
      "1048562     PEUGEOT            208  1050.0         104.0  PETROL    1199.0   \n",
      "1048563     PEUGEOT            208  1050.0         104.0  PETROL    1199.0   \n",
      "1048564     PEUGEOT            208  1050.0         104.0  PETROL    1199.0   \n",
      "1048565     PEUGEOT            208  1050.0         104.0  PETROL    1199.0   \n",
      "1048566     PEUGEOT            208  1050.0         104.0  PETROL    1199.0   \n",
      "1048567     PEUGEOT            208  1050.0         104.0  PETROL    1199.0   \n",
      "1048568     PEUGEOT            208  1050.0         104.0  PETROL    1199.0   \n",
      "1048569     PEUGEOT            208  1050.0         104.0  PETROL    1199.0   \n",
      "1048570     PEUGEOT            208  1050.0         104.0  PETROL    1199.0   \n",
      "1048571     PEUGEOT            208  1050.0         104.0  PETROL    1199.0   \n",
      "1048572     PEUGEOT            208  1050.0         104.0  PETROL    1199.0   \n",
      "1048573     PEUGEOT            208  1050.0         104.0  PETROL    1199.0   \n",
      "1048574     PEUGEOT            208  1050.0         104.0  PETROL    1199.0   \n",
      "\n",
      "         ep (KW)  \n",
      "0           85.0  \n",
      "1          110.0  \n",
      "2          110.0  \n",
      "3           70.0  \n",
      "4           70.0  \n",
      "5           70.0  \n",
      "6           81.0  \n",
      "7           85.0  \n",
      "8           85.0  \n",
      "9           85.0  \n",
      "10          85.0  \n",
      "11          85.0  \n",
      "12         110.0  \n",
      "13         110.0  \n",
      "14         110.0  \n",
      "15         110.0  \n",
      "16         110.0  \n",
      "17          85.0  \n",
      "18         110.0  \n",
      "19          70.0  \n",
      "20          85.0  \n",
      "21          63.0  \n",
      "22          85.0  \n",
      "23          85.0  \n",
      "24          85.0  \n",
      "25          85.0  \n",
      "26          85.0  \n",
      "27         110.0  \n",
      "28         110.0  \n",
      "29          85.0  \n",
      "...          ...  \n",
      "1048545     60.0  \n",
      "1048546     60.0  \n",
      "1048547     60.0  \n",
      "1048548     60.0  \n",
      "1048549     60.0  \n",
      "1048550     60.0  \n",
      "1048551     60.0  \n",
      "1048552     60.0  \n",
      "1048553     60.0  \n",
      "1048554     60.0  \n",
      "1048555     60.0  \n",
      "1048556     60.0  \n",
      "1048557     60.0  \n",
      "1048558     60.0  \n",
      "1048559     60.0  \n",
      "1048560     60.0  \n",
      "1048561     60.0  \n",
      "1048562     60.0  \n",
      "1048563     60.0  \n",
      "1048564     60.0  \n",
      "1048565     60.0  \n",
      "1048566     60.0  \n",
      "1048567     60.0  \n",
      "1048568     60.0  \n",
      "1048569     60.0  \n",
      "1048570     60.0  \n",
      "1048571     60.0  \n",
      "1048572     60.0  \n",
      "1048573     60.0  \n",
      "1048574     60.0  \n",
      "\n",
      "[936948 rows x 7 columns]\n"
     ]
    }
   ],
   "source": [
    "#convert Ft into dummy variables\n",
    "dataframe['Ft']=dataframe['Ft'].apply({'Petrol':'PETROL','PETROL':'PETROL','Diesel':'DIESEL','DIESEL':'DIESEL'}.get)\n",
    "print(dataframe)"
   ]
  },
  {
   "cell_type": "code",
   "execution_count": 21,
   "metadata": {},
   "outputs": [
    {
     "name": "stdout",
     "output_type": "stream",
     "text": [
      "0          1\n",
      "1          0\n",
      "2          0\n",
      "3          0\n",
      "4          0\n",
      "5          0\n",
      "6          1\n",
      "7          0\n",
      "8          1\n",
      "9          1\n",
      "10         0\n",
      "11         0\n",
      "12         0\n",
      "13         0\n",
      "14         0\n",
      "15         0\n",
      "16         0\n",
      "17         1\n",
      "18         0\n",
      "19         0\n",
      "20         0\n",
      "21         0\n",
      "22         1\n",
      "23         1\n",
      "24         1\n",
      "25         0\n",
      "26         0\n",
      "27         0\n",
      "28         0\n",
      "29         1\n",
      "          ..\n",
      "1048545    0\n",
      "1048546    0\n",
      "1048547    0\n",
      "1048548    0\n",
      "1048549    0\n",
      "1048550    0\n",
      "1048551    0\n",
      "1048552    0\n",
      "1048553    0\n",
      "1048554    0\n",
      "1048555    0\n",
      "1048556    0\n",
      "1048557    0\n",
      "1048558    0\n",
      "1048559    0\n",
      "1048560    0\n",
      "1048561    0\n",
      "1048562    0\n",
      "1048563    0\n",
      "1048564    0\n",
      "1048565    0\n",
      "1048566    0\n",
      "1048567    0\n",
      "1048568    0\n",
      "1048569    0\n",
      "1048570    0\n",
      "1048571    0\n",
      "1048572    0\n",
      "1048573    0\n",
      "1048574    0\n",
      "Name: Ft, Length: 936948, dtype: int64\n"
     ]
    }
   ],
   "source": [
    "dataframe['Ft']=dataframe['Ft'].apply({'PETROL':0,'DIESEL':1}.get)\n",
    "print(dataframe['Ft'])"
   ]
  },
  {
   "cell_type": "code",
   "execution_count": 22,
   "metadata": {},
   "outputs": [
    {
     "name": "stdout",
     "output_type": "stream",
     "text": [
      "         Ft\n",
      "0         1\n",
      "1         0\n",
      "2         0\n",
      "3         0\n",
      "4         0\n",
      "5         0\n",
      "6         1\n",
      "7         0\n",
      "8         1\n",
      "9         1\n",
      "10        0\n",
      "11        0\n",
      "12        0\n",
      "13        0\n",
      "14        0\n",
      "15        0\n",
      "16        0\n",
      "17        1\n",
      "18        0\n",
      "19        0\n",
      "20        0\n",
      "21        0\n",
      "22        1\n",
      "23        1\n",
      "24        1\n",
      "25        0\n",
      "26        0\n",
      "27        0\n",
      "28        0\n",
      "29        1\n",
      "...      ..\n",
      "1048545   0\n",
      "1048546   0\n",
      "1048547   0\n",
      "1048548   0\n",
      "1048549   0\n",
      "1048550   0\n",
      "1048551   0\n",
      "1048552   0\n",
      "1048553   0\n",
      "1048554   0\n",
      "1048555   0\n",
      "1048556   0\n",
      "1048557   0\n",
      "1048558   0\n",
      "1048559   0\n",
      "1048560   0\n",
      "1048561   0\n",
      "1048562   0\n",
      "1048563   0\n",
      "1048564   0\n",
      "1048565   0\n",
      "1048566   0\n",
      "1048567   0\n",
      "1048568   0\n",
      "1048569   0\n",
      "1048570   0\n",
      "1048571   0\n",
      "1048572   0\n",
      "1048573   0\n",
      "1048574   0\n",
      "\n",
      "[936948 rows x 1 columns]\n"
     ]
    }
   ],
   "source": [
    "y=dataframe[['Ft']]\n",
    "print(y)"
   ]
  },
  {
   "cell_type": "code",
   "execution_count": 23,
   "metadata": {},
   "outputs": [
    {
     "data": {
      "text/html": [
       "<div>\n",
       "<style scoped>\n",
       "    .dataframe tbody tr th:only-of-type {\n",
       "        vertical-align: middle;\n",
       "    }\n",
       "\n",
       "    .dataframe tbody tr th {\n",
       "        vertical-align: top;\n",
       "    }\n",
       "\n",
       "    .dataframe thead th {\n",
       "        text-align: right;\n",
       "    }\n",
       "</style>\n",
       "<table border=\"1\" class=\"dataframe\">\n",
       "  <thead>\n",
       "    <tr style=\"text-align: right;\">\n",
       "      <th></th>\n",
       "      <th>Enedc (g/km)</th>\n",
       "      <th>m (kg)</th>\n",
       "      <th>Enedc (g/km)</th>\n",
       "      <th>ec (cm3)</th>\n",
       "      <th>ep (KW)</th>\n",
       "    </tr>\n",
       "  </thead>\n",
       "  <tbody>\n",
       "    <tr>\n",
       "      <th>0</th>\n",
       "      <td>104.0</td>\n",
       "      <td>1375.0</td>\n",
       "      <td>104.0</td>\n",
       "      <td>1598.0</td>\n",
       "      <td>85.0</td>\n",
       "    </tr>\n",
       "    <tr>\n",
       "      <th>1</th>\n",
       "      <td>119.0</td>\n",
       "      <td>1340.0</td>\n",
       "      <td>119.0</td>\n",
       "      <td>1498.0</td>\n",
       "      <td>110.0</td>\n",
       "    </tr>\n",
       "    <tr>\n",
       "      <th>2</th>\n",
       "      <td>120.0</td>\n",
       "      <td>1320.0</td>\n",
       "      <td>120.0</td>\n",
       "      <td>1498.0</td>\n",
       "      <td>110.0</td>\n",
       "    </tr>\n",
       "    <tr>\n",
       "      <th>3</th>\n",
       "      <td>104.0</td>\n",
       "      <td>1145.0</td>\n",
       "      <td>104.0</td>\n",
       "      <td>999.0</td>\n",
       "      <td>70.0</td>\n",
       "    </tr>\n",
       "    <tr>\n",
       "      <th>4</th>\n",
       "      <td>104.0</td>\n",
       "      <td>1145.0</td>\n",
       "      <td>104.0</td>\n",
       "      <td>999.0</td>\n",
       "      <td>70.0</td>\n",
       "    </tr>\n",
       "  </tbody>\n",
       "</table>\n",
       "</div>"
      ],
      "text/plain": [
       "   Enedc (g/km)  m (kg)  Enedc (g/km)  ec (cm3)  ep (KW)\n",
       "0         104.0  1375.0         104.0    1598.0     85.0\n",
       "1         119.0  1340.0         119.0    1498.0    110.0\n",
       "2         120.0  1320.0         120.0    1498.0    110.0\n",
       "3         104.0  1145.0         104.0     999.0     70.0\n",
       "4         104.0  1145.0         104.0     999.0     70.0"
      ]
     },
     "execution_count": 23,
     "metadata": {},
     "output_type": "execute_result"
    }
   ],
   "source": [
    "x2=dataframe[['Enedc (g/km)','m (kg)','Enedc (g/km)','ec (cm3)','ep (KW)']]\n",
    "y=dataframe[['Ft']]\n",
    "x2.head(5)"
   ]
  },
  {
   "cell_type": "code",
   "execution_count": 24,
   "metadata": {},
   "outputs": [
    {
     "data": {
      "text/html": [
       "<div>\n",
       "<style scoped>\n",
       "    .dataframe tbody tr th:only-of-type {\n",
       "        vertical-align: middle;\n",
       "    }\n",
       "\n",
       "    .dataframe tbody tr th {\n",
       "        vertical-align: top;\n",
       "    }\n",
       "\n",
       "    .dataframe thead th {\n",
       "        text-align: right;\n",
       "    }\n",
       "</style>\n",
       "<table border=\"1\" class=\"dataframe\">\n",
       "  <thead>\n",
       "    <tr style=\"text-align: right;\">\n",
       "      <th></th>\n",
       "      <th>Ft</th>\n",
       "    </tr>\n",
       "  </thead>\n",
       "  <tbody>\n",
       "    <tr>\n",
       "      <th>0</th>\n",
       "      <td>1</td>\n",
       "    </tr>\n",
       "    <tr>\n",
       "      <th>1</th>\n",
       "      <td>0</td>\n",
       "    </tr>\n",
       "    <tr>\n",
       "      <th>2</th>\n",
       "      <td>0</td>\n",
       "    </tr>\n",
       "    <tr>\n",
       "      <th>3</th>\n",
       "      <td>0</td>\n",
       "    </tr>\n",
       "    <tr>\n",
       "      <th>4</th>\n",
       "      <td>0</td>\n",
       "    </tr>\n",
       "  </tbody>\n",
       "</table>\n",
       "</div>"
      ],
      "text/plain": [
       "   Ft\n",
       "0   1\n",
       "1   0\n",
       "2   0\n",
       "3   0\n",
       "4   0"
      ]
     },
     "execution_count": 24,
     "metadata": {},
     "output_type": "execute_result"
    }
   ],
   "source": [
    "y.head(5)"
   ]
  },
  {
   "cell_type": "code",
   "execution_count": 25,
   "metadata": {},
   "outputs": [
    {
     "data": {
      "text/plain": [
       "array([-0.41654131])"
      ]
     },
     "execution_count": 25,
     "metadata": {},
     "output_type": "execute_result"
    }
   ],
   "source": [
    "\n",
    "\n",
    "\n",
    "regression = LinearRegression()\n",
    "model = regression.fit(x2, y)\n",
    "\n",
    "\n",
    "model.intercept_\n",
    "\n"
   ]
  },
  {
   "cell_type": "code",
   "execution_count": 26,
   "metadata": {},
   "outputs": [
    {
     "data": {
      "text/plain": [
       "array([[-0.00665594,  0.00144368, -0.00665594,  0.00068876, -0.0058178 ]])"
      ]
     },
     "execution_count": 26,
     "metadata": {},
     "output_type": "execute_result"
    }
   ],
   "source": [
    "model.coef_"
   ]
  },
  {
   "cell_type": "code",
   "execution_count": 27,
   "metadata": {},
   "outputs": [
    {
     "data": {
      "text/plain": [
       "0.6698912723322366"
      ]
     },
     "execution_count": 27,
     "metadata": {},
     "output_type": "execute_result"
    }
   ],
   "source": [
    "model.score(x2,y)"
   ]
  },
  {
   "cell_type": "code",
   "execution_count": 28,
   "metadata": {},
   "outputs": [
    {
     "name": "stderr",
     "output_type": "stream",
     "text": [
      "C:\\Users\\Federico\\Anaconda3\\lib\\site-packages\\numpy\\core\\fromnumeric.py:2389: FutureWarning: Method .ptp is deprecated and will be removed in a future version. Use numpy.ptp instead.\n",
      "  return ptp(axis=axis, out=out, **kwargs)\n"
     ]
    }
   ],
   "source": [
    "import statsmodels.api as sm\n",
    "x2=sm.add_constant(x2)\n",
    "model = sm.OLS(y,x2).fit()\n"
   ]
  },
  {
   "cell_type": "code",
   "execution_count": 29,
   "metadata": {},
   "outputs": [
    {
     "data": {
      "text/html": [
       "<table class=\"simpletable\">\n",
       "<caption>OLS Regression Results</caption>\n",
       "<tr>\n",
       "  <th>Dep. Variable:</th>           <td>Ft</td>        <th>  R-squared:         </th>  <td>   0.670</td>  \n",
       "</tr>\n",
       "<tr>\n",
       "  <th>Model:</th>                   <td>OLS</td>       <th>  Adj. R-squared:    </th>  <td>   0.670</td>  \n",
       "</tr>\n",
       "<tr>\n",
       "  <th>Method:</th>             <td>Least Squares</td>  <th>  F-statistic:       </th>  <td>4.753e+05</td> \n",
       "</tr>\n",
       "<tr>\n",
       "  <th>Date:</th>             <td>Thu, 21 Nov 2019</td> <th>  Prob (F-statistic):</th>   <td>  0.00</td>   \n",
       "</tr>\n",
       "<tr>\n",
       "  <th>Time:</th>                 <td>14:33:50</td>     <th>  Log-Likelihood:    </th> <td>-1.4347e+05</td>\n",
       "</tr>\n",
       "<tr>\n",
       "  <th>No. Observations:</th>      <td>936948</td>      <th>  AIC:               </th>  <td>2.870e+05</td> \n",
       "</tr>\n",
       "<tr>\n",
       "  <th>Df Residuals:</th>          <td>936943</td>      <th>  BIC:               </th>  <td>2.870e+05</td> \n",
       "</tr>\n",
       "<tr>\n",
       "  <th>Df Model:</th>              <td>     4</td>      <th>                     </th>      <td> </td>     \n",
       "</tr>\n",
       "<tr>\n",
       "  <th>Covariance Type:</th>      <td>nonrobust</td>    <th>                     </th>      <td> </td>     \n",
       "</tr>\n",
       "</table>\n",
       "<table class=\"simpletable\">\n",
       "<tr>\n",
       "        <td></td>          <th>coef</th>     <th>std err</th>      <th>t</th>      <th>P>|t|</th>  <th>[0.025</th>    <th>0.975]</th>  \n",
       "</tr>\n",
       "<tr>\n",
       "  <th>const</th>        <td>   -0.4165</td> <td>    0.002</td> <td> -208.112</td> <td> 0.000</td> <td>   -0.420</td> <td>   -0.413</td>\n",
       "</tr>\n",
       "<tr>\n",
       "  <th>Enedc (g/km)</th> <td>   -0.0067</td> <td> 9.26e-06</td> <td> -718.408</td> <td> 0.000</td> <td>   -0.007</td> <td>   -0.007</td>\n",
       "</tr>\n",
       "<tr>\n",
       "  <th>m (kg)</th>       <td>    0.0014</td> <td> 1.92e-06</td> <td>  753.119</td> <td> 0.000</td> <td>    0.001</td> <td>    0.001</td>\n",
       "</tr>\n",
       "<tr>\n",
       "  <th>Enedc (g/km)</th> <td>   -0.0067</td> <td> 9.26e-06</td> <td> -718.408</td> <td> 0.000</td> <td>   -0.007</td> <td>   -0.007</td>\n",
       "</tr>\n",
       "<tr>\n",
       "  <th>ec (cm3)</th>     <td>    0.0007</td> <td> 1.27e-06</td> <td>  540.267</td> <td> 0.000</td> <td>    0.001</td> <td>    0.001</td>\n",
       "</tr>\n",
       "<tr>\n",
       "  <th>ep (KW)</th>      <td>   -0.0058</td> <td> 1.53e-05</td> <td> -379.166</td> <td> 0.000</td> <td>   -0.006</td> <td>   -0.006</td>\n",
       "</tr>\n",
       "</table>\n",
       "<table class=\"simpletable\">\n",
       "<tr>\n",
       "  <th>Omnibus:</th>       <td>149431.671</td> <th>  Durbin-Watson:     </th>  <td>   0.914</td> \n",
       "</tr>\n",
       "<tr>\n",
       "  <th>Prob(Omnibus):</th>   <td> 0.000</td>   <th>  Jarque-Bera (JB):  </th> <td>641092.855</td>\n",
       "</tr>\n",
       "<tr>\n",
       "  <th>Skew:</th>            <td>-0.734</td>   <th>  Prob(JB):          </th>  <td>    0.00</td> \n",
       "</tr>\n",
       "<tr>\n",
       "  <th>Kurtosis:</th>        <td> 6.777</td>   <th>  Cond. No.          </th>  <td>1.09e+18</td> \n",
       "</tr>\n",
       "</table><br/><br/>Warnings:<br/>[1] Standard Errors assume that the covariance matrix of the errors is correctly specified.<br/>[2] The smallest eigenvalue is 3.34e-24. This might indicate that there are<br/>strong multicollinearity problems or that the design matrix is singular."
      ],
      "text/plain": [
       "<class 'statsmodels.iolib.summary.Summary'>\n",
       "\"\"\"\n",
       "                            OLS Regression Results                            \n",
       "==============================================================================\n",
       "Dep. Variable:                     Ft   R-squared:                       0.670\n",
       "Model:                            OLS   Adj. R-squared:                  0.670\n",
       "Method:                 Least Squares   F-statistic:                 4.753e+05\n",
       "Date:                Thu, 21 Nov 2019   Prob (F-statistic):               0.00\n",
       "Time:                        14:33:50   Log-Likelihood:            -1.4347e+05\n",
       "No. Observations:              936948   AIC:                         2.870e+05\n",
       "Df Residuals:                  936943   BIC:                         2.870e+05\n",
       "Df Model:                           4                                         \n",
       "Covariance Type:            nonrobust                                         \n",
       "================================================================================\n",
       "                   coef    std err          t      P>|t|      [0.025      0.975]\n",
       "--------------------------------------------------------------------------------\n",
       "const           -0.4165      0.002   -208.112      0.000      -0.420      -0.413\n",
       "Enedc (g/km)    -0.0067   9.26e-06   -718.408      0.000      -0.007      -0.007\n",
       "m (kg)           0.0014   1.92e-06    753.119      0.000       0.001       0.001\n",
       "Enedc (g/km)    -0.0067   9.26e-06   -718.408      0.000      -0.007      -0.007\n",
       "ec (cm3)         0.0007   1.27e-06    540.267      0.000       0.001       0.001\n",
       "ep (KW)         -0.0058   1.53e-05   -379.166      0.000      -0.006      -0.006\n",
       "==============================================================================\n",
       "Omnibus:                   149431.671   Durbin-Watson:                   0.914\n",
       "Prob(Omnibus):                  0.000   Jarque-Bera (JB):           641092.855\n",
       "Skew:                          -0.734   Prob(JB):                         0.00\n",
       "Kurtosis:                       6.777   Cond. No.                     1.09e+18\n",
       "==============================================================================\n",
       "\n",
       "Warnings:\n",
       "[1] Standard Errors assume that the covariance matrix of the errors is correctly specified.\n",
       "[2] The smallest eigenvalue is 3.34e-24. This might indicate that there are\n",
       "strong multicollinearity problems or that the design matrix is singular.\n",
       "\"\"\""
      ]
     },
     "execution_count": 29,
     "metadata": {},
     "output_type": "execute_result"
    }
   ],
   "source": [
    "model.summary()\n"
   ]
  },
  {
   "cell_type": "code",
   "execution_count": 30,
   "metadata": {},
   "outputs": [
    {
     "data": {
      "text/plain": [
       "array([[ 104., 1598., 1375.],\n",
       "       [ 119., 1498., 1340.],\n",
       "       [ 120., 1498., 1320.],\n",
       "       ...,\n",
       "       [ 104., 1199., 1050.],\n",
       "       [ 104., 1199., 1050.],\n",
       "       [ 104., 1199., 1050.]])"
      ]
     },
     "execution_count": 30,
     "metadata": {},
     "output_type": "execute_result"
    }
   ],
   "source": [
    "import numpy as np\n",
    "np.asarray(x)"
   ]
  },
  {
   "cell_type": "code",
   "execution_count": 31,
   "metadata": {},
   "outputs": [],
   "source": [
    "#logistic regression \n",
    "\n",
    "\n",
    "import pandas as pd\n",
    "from sklearn.model_selection import train_test_split\n",
    "from sklearn.linear_model import LogisticRegression\n",
    "from sklearn import metrics\n",
    "import seaborn as sn\n",
    "\n",
    "x_train, x_test, y_train, y_test = train_test_split(x,y, test_size=0.70, random_state=0)\n",
    "\n"
   ]
  },
  {
   "cell_type": "code",
   "execution_count": 32,
   "metadata": {},
   "outputs": [],
   "source": [
    "logistic_regression= LogisticRegression()\n"
   ]
  },
  {
   "cell_type": "code",
   "execution_count": 33,
   "metadata": {},
   "outputs": [
    {
     "name": "stderr",
     "output_type": "stream",
     "text": [
      "C:\\Users\\Federico\\Anaconda3\\lib\\site-packages\\sklearn\\linear_model\\logistic.py:433: FutureWarning: Default solver will be changed to 'lbfgs' in 0.22. Specify a solver to silence this warning.\n",
      "  FutureWarning)\n",
      "C:\\Users\\Federico\\Anaconda3\\lib\\site-packages\\sklearn\\utils\\validation.py:761: DataConversionWarning: A column-vector y was passed when a 1d array was expected. Please change the shape of y to (n_samples, ), for example using ravel().\n",
      "  y = column_or_1d(y, warn=True)\n"
     ]
    },
    {
     "data": {
      "text/plain": [
       "LogisticRegression(C=1.0, class_weight=None, dual=False, fit_intercept=True,\n",
       "          intercept_scaling=1, max_iter=100, multi_class='warn',\n",
       "          n_jobs=None, penalty='l2', random_state=None, solver='warn',\n",
       "          tol=0.0001, verbose=0, warm_start=False)"
      ]
     },
     "execution_count": 33,
     "metadata": {},
     "output_type": "execute_result"
    }
   ],
   "source": [
    "logistic_regression.fit( x_train, y_train)\n"
   ]
  },
  {
   "cell_type": "code",
   "execution_count": 34,
   "metadata": {},
   "outputs": [],
   "source": [
    "y_pred=logistic_regression.predict(x_test)"
   ]
  },
  {
   "cell_type": "code",
   "execution_count": 39,
   "metadata": {},
   "outputs": [
    {
     "ename": "ValueError",
     "evalue": "Shape of passed values is (1, 2), indices imply (655864, 2)",
     "output_type": "error",
     "traceback": [
      "\u001b[1;31m---------------------------------------------------------------------------\u001b[0m",
      "\u001b[1;31mValueError\u001b[0m                                Traceback (most recent call last)",
      "\u001b[1;32m~\\Anaconda3\\lib\\site-packages\\pandas\\core\\internals\\managers.py\u001b[0m in \u001b[0;36mcreate_block_manager_from_arrays\u001b[1;34m(arrays, names, axes)\u001b[0m\n\u001b[0;32m   1666\u001b[0m         \u001b[0mblocks\u001b[0m \u001b[1;33m=\u001b[0m \u001b[0mform_blocks\u001b[0m\u001b[1;33m(\u001b[0m\u001b[0marrays\u001b[0m\u001b[1;33m,\u001b[0m \u001b[0mnames\u001b[0m\u001b[1;33m,\u001b[0m \u001b[0maxes\u001b[0m\u001b[1;33m)\u001b[0m\u001b[1;33m\u001b[0m\u001b[1;33m\u001b[0m\u001b[0m\n\u001b[1;32m-> 1667\u001b[1;33m         \u001b[0mmgr\u001b[0m \u001b[1;33m=\u001b[0m \u001b[0mBlockManager\u001b[0m\u001b[1;33m(\u001b[0m\u001b[0mblocks\u001b[0m\u001b[1;33m,\u001b[0m \u001b[0maxes\u001b[0m\u001b[1;33m)\u001b[0m\u001b[1;33m\u001b[0m\u001b[1;33m\u001b[0m\u001b[0m\n\u001b[0m\u001b[0;32m   1668\u001b[0m         \u001b[0mmgr\u001b[0m\u001b[1;33m.\u001b[0m\u001b[0m_consolidate_inplace\u001b[0m\u001b[1;33m(\u001b[0m\u001b[1;33m)\u001b[0m\u001b[1;33m\u001b[0m\u001b[1;33m\u001b[0m\u001b[0m\n",
      "\u001b[1;32m~\\Anaconda3\\lib\\site-packages\\pandas\\core\\internals\\managers.py\u001b[0m in \u001b[0;36m__init__\u001b[1;34m(self, blocks, axes, do_integrity_check)\u001b[0m\n\u001b[0;32m    113\u001b[0m         \u001b[1;32mif\u001b[0m \u001b[0mdo_integrity_check\u001b[0m\u001b[1;33m:\u001b[0m\u001b[1;33m\u001b[0m\u001b[1;33m\u001b[0m\u001b[0m\n\u001b[1;32m--> 114\u001b[1;33m             \u001b[0mself\u001b[0m\u001b[1;33m.\u001b[0m\u001b[0m_verify_integrity\u001b[0m\u001b[1;33m(\u001b[0m\u001b[1;33m)\u001b[0m\u001b[1;33m\u001b[0m\u001b[1;33m\u001b[0m\u001b[0m\n\u001b[0m\u001b[0;32m    115\u001b[0m \u001b[1;33m\u001b[0m\u001b[0m\n",
      "\u001b[1;32m~\\Anaconda3\\lib\\site-packages\\pandas\\core\\internals\\managers.py\u001b[0m in \u001b[0;36m_verify_integrity\u001b[1;34m(self)\u001b[0m\n\u001b[0;32m    310\u001b[0m             \u001b[1;32mif\u001b[0m \u001b[0mblock\u001b[0m\u001b[1;33m.\u001b[0m\u001b[0m_verify_integrity\u001b[0m \u001b[1;32mand\u001b[0m \u001b[0mblock\u001b[0m\u001b[1;33m.\u001b[0m\u001b[0mshape\u001b[0m\u001b[1;33m[\u001b[0m\u001b[1;36m1\u001b[0m\u001b[1;33m:\u001b[0m\u001b[1;33m]\u001b[0m \u001b[1;33m!=\u001b[0m \u001b[0mmgr_shape\u001b[0m\u001b[1;33m[\u001b[0m\u001b[1;36m1\u001b[0m\u001b[1;33m:\u001b[0m\u001b[1;33m]\u001b[0m\u001b[1;33m:\u001b[0m\u001b[1;33m\u001b[0m\u001b[1;33m\u001b[0m\u001b[0m\n\u001b[1;32m--> 311\u001b[1;33m                 \u001b[0mconstruction_error\u001b[0m\u001b[1;33m(\u001b[0m\u001b[0mtot_items\u001b[0m\u001b[1;33m,\u001b[0m \u001b[0mblock\u001b[0m\u001b[1;33m.\u001b[0m\u001b[0mshape\u001b[0m\u001b[1;33m[\u001b[0m\u001b[1;36m1\u001b[0m\u001b[1;33m:\u001b[0m\u001b[1;33m]\u001b[0m\u001b[1;33m,\u001b[0m \u001b[0mself\u001b[0m\u001b[1;33m.\u001b[0m\u001b[0maxes\u001b[0m\u001b[1;33m)\u001b[0m\u001b[1;33m\u001b[0m\u001b[1;33m\u001b[0m\u001b[0m\n\u001b[0m\u001b[0;32m    312\u001b[0m         \u001b[1;32mif\u001b[0m \u001b[0mlen\u001b[0m\u001b[1;33m(\u001b[0m\u001b[0mself\u001b[0m\u001b[1;33m.\u001b[0m\u001b[0mitems\u001b[0m\u001b[1;33m)\u001b[0m \u001b[1;33m!=\u001b[0m \u001b[0mtot_items\u001b[0m\u001b[1;33m:\u001b[0m\u001b[1;33m\u001b[0m\u001b[1;33m\u001b[0m\u001b[0m\n",
      "\u001b[1;32m~\\Anaconda3\\lib\\site-packages\\pandas\\core\\internals\\managers.py\u001b[0m in \u001b[0;36mconstruction_error\u001b[1;34m(tot_items, block_shape, axes, e)\u001b[0m\n\u001b[0;32m   1690\u001b[0m     raise ValueError(\"Shape of passed values is {0}, indices imply {1}\".format(\n\u001b[1;32m-> 1691\u001b[1;33m         passed, implied))\n\u001b[0m\u001b[0;32m   1692\u001b[0m \u001b[1;33m\u001b[0m\u001b[0m\n",
      "\u001b[1;31mValueError\u001b[0m: Shape of passed values is (1, 2), indices imply (655864, 2)",
      "\nDuring handling of the above exception, another exception occurred:\n",
      "\u001b[1;31mValueError\u001b[0m                                Traceback (most recent call last)",
      "\u001b[1;32m<ipython-input-39-ede190549fc7>\u001b[0m in \u001b[0;36m<module>\u001b[1;34m\u001b[0m\n\u001b[0;32m      2\u001b[0m \u001b[1;33m\u001b[0m\u001b[0m\n\u001b[0;32m      3\u001b[0m \u001b[1;33m\u001b[0m\u001b[0m\n\u001b[1;32m----> 4\u001b[1;33m \u001b[0mconfusion_matrix\u001b[0m \u001b[1;33m=\u001b[0m \u001b[0mpd\u001b[0m\u001b[1;33m.\u001b[0m\u001b[0mcrosstab\u001b[0m\u001b[1;33m(\u001b[0m\u001b[0my_test\u001b[0m\u001b[1;33m,\u001b[0m \u001b[0my_pred\u001b[0m\u001b[1;33m,\u001b[0m \u001b[0mrownames\u001b[0m\u001b[1;33m=\u001b[0m\u001b[1;33m[\u001b[0m\u001b[1;34m'Actual'\u001b[0m\u001b[1;33m]\u001b[0m\u001b[1;33m,\u001b[0m \u001b[0mcolnames\u001b[0m\u001b[1;33m=\u001b[0m\u001b[1;33m[\u001b[0m\u001b[1;34m'Predicted'\u001b[0m\u001b[1;33m]\u001b[0m\u001b[1;33m)\u001b[0m\u001b[1;33m\u001b[0m\u001b[1;33m\u001b[0m\u001b[0m\n\u001b[0m\u001b[0;32m      5\u001b[0m \u001b[0msn\u001b[0m\u001b[1;33m.\u001b[0m\u001b[0mheatmap\u001b[0m\u001b[1;33m(\u001b[0m\u001b[0mconfusion_matrix\u001b[0m\u001b[1;33m,\u001b[0m \u001b[0mannot\u001b[0m\u001b[1;33m=\u001b[0m\u001b[1;32mTrue\u001b[0m\u001b[1;33m)\u001b[0m\u001b[1;33m\u001b[0m\u001b[1;33m\u001b[0m\u001b[0m\n",
      "\u001b[1;32m~\\Anaconda3\\lib\\site-packages\\pandas\\core\\reshape\\pivot.py\u001b[0m in \u001b[0;36mcrosstab\u001b[1;34m(index, columns, values, rownames, colnames, aggfunc, margins, margins_name, dropna, normalize)\u001b[0m\n\u001b[0;32m    509\u001b[0m \u001b[1;33m\u001b[0m\u001b[0m\n\u001b[0;32m    510\u001b[0m     \u001b[1;32mfrom\u001b[0m \u001b[0mpandas\u001b[0m \u001b[1;32mimport\u001b[0m \u001b[0mDataFrame\u001b[0m\u001b[1;33m\u001b[0m\u001b[1;33m\u001b[0m\u001b[0m\n\u001b[1;32m--> 511\u001b[1;33m     \u001b[0mdf\u001b[0m \u001b[1;33m=\u001b[0m \u001b[0mDataFrame\u001b[0m\u001b[1;33m(\u001b[0m\u001b[0mdata\u001b[0m\u001b[1;33m,\u001b[0m \u001b[0mindex\u001b[0m\u001b[1;33m=\u001b[0m\u001b[0mcommon_idx\u001b[0m\u001b[1;33m)\u001b[0m\u001b[1;33m\u001b[0m\u001b[1;33m\u001b[0m\u001b[0m\n\u001b[0m\u001b[0;32m    512\u001b[0m     \u001b[1;32mif\u001b[0m \u001b[0mvalues\u001b[0m \u001b[1;32mis\u001b[0m \u001b[1;32mNone\u001b[0m\u001b[1;33m:\u001b[0m\u001b[1;33m\u001b[0m\u001b[1;33m\u001b[0m\u001b[0m\n\u001b[0;32m    513\u001b[0m         \u001b[0mdf\u001b[0m\u001b[1;33m[\u001b[0m\u001b[1;34m'__dummy__'\u001b[0m\u001b[1;33m]\u001b[0m \u001b[1;33m=\u001b[0m \u001b[1;36m0\u001b[0m\u001b[1;33m\u001b[0m\u001b[1;33m\u001b[0m\u001b[0m\n",
      "\u001b[1;32m~\\Anaconda3\\lib\\site-packages\\pandas\\core\\frame.py\u001b[0m in \u001b[0;36m__init__\u001b[1;34m(self, data, index, columns, dtype, copy)\u001b[0m\n\u001b[0;32m    390\u001b[0m                                  dtype=dtype, copy=copy)\n\u001b[0;32m    391\u001b[0m         \u001b[1;32melif\u001b[0m \u001b[0misinstance\u001b[0m\u001b[1;33m(\u001b[0m\u001b[0mdata\u001b[0m\u001b[1;33m,\u001b[0m \u001b[0mdict\u001b[0m\u001b[1;33m)\u001b[0m\u001b[1;33m:\u001b[0m\u001b[1;33m\u001b[0m\u001b[1;33m\u001b[0m\u001b[0m\n\u001b[1;32m--> 392\u001b[1;33m             \u001b[0mmgr\u001b[0m \u001b[1;33m=\u001b[0m \u001b[0minit_dict\u001b[0m\u001b[1;33m(\u001b[0m\u001b[0mdata\u001b[0m\u001b[1;33m,\u001b[0m \u001b[0mindex\u001b[0m\u001b[1;33m,\u001b[0m \u001b[0mcolumns\u001b[0m\u001b[1;33m,\u001b[0m \u001b[0mdtype\u001b[0m\u001b[1;33m=\u001b[0m\u001b[0mdtype\u001b[0m\u001b[1;33m)\u001b[0m\u001b[1;33m\u001b[0m\u001b[1;33m\u001b[0m\u001b[0m\n\u001b[0m\u001b[0;32m    393\u001b[0m         \u001b[1;32melif\u001b[0m \u001b[0misinstance\u001b[0m\u001b[1;33m(\u001b[0m\u001b[0mdata\u001b[0m\u001b[1;33m,\u001b[0m \u001b[0mma\u001b[0m\u001b[1;33m.\u001b[0m\u001b[0mMaskedArray\u001b[0m\u001b[1;33m)\u001b[0m\u001b[1;33m:\u001b[0m\u001b[1;33m\u001b[0m\u001b[1;33m\u001b[0m\u001b[0m\n\u001b[0;32m    394\u001b[0m             \u001b[1;32mimport\u001b[0m \u001b[0mnumpy\u001b[0m\u001b[1;33m.\u001b[0m\u001b[0mma\u001b[0m\u001b[1;33m.\u001b[0m\u001b[0mmrecords\u001b[0m \u001b[1;32mas\u001b[0m \u001b[0mmrecords\u001b[0m\u001b[1;33m\u001b[0m\u001b[1;33m\u001b[0m\u001b[0m\n",
      "\u001b[1;32m~\\Anaconda3\\lib\\site-packages\\pandas\\core\\internals\\construction.py\u001b[0m in \u001b[0;36minit_dict\u001b[1;34m(data, index, columns, dtype)\u001b[0m\n\u001b[0;32m    210\u001b[0m         \u001b[0marrays\u001b[0m \u001b[1;33m=\u001b[0m \u001b[1;33m[\u001b[0m\u001b[0mdata\u001b[0m\u001b[1;33m[\u001b[0m\u001b[0mk\u001b[0m\u001b[1;33m]\u001b[0m \u001b[1;32mfor\u001b[0m \u001b[0mk\u001b[0m \u001b[1;32min\u001b[0m \u001b[0mkeys\u001b[0m\u001b[1;33m]\u001b[0m\u001b[1;33m\u001b[0m\u001b[1;33m\u001b[0m\u001b[0m\n\u001b[0;32m    211\u001b[0m \u001b[1;33m\u001b[0m\u001b[0m\n\u001b[1;32m--> 212\u001b[1;33m     \u001b[1;32mreturn\u001b[0m \u001b[0marrays_to_mgr\u001b[0m\u001b[1;33m(\u001b[0m\u001b[0marrays\u001b[0m\u001b[1;33m,\u001b[0m \u001b[0mdata_names\u001b[0m\u001b[1;33m,\u001b[0m \u001b[0mindex\u001b[0m\u001b[1;33m,\u001b[0m \u001b[0mcolumns\u001b[0m\u001b[1;33m,\u001b[0m \u001b[0mdtype\u001b[0m\u001b[1;33m=\u001b[0m\u001b[0mdtype\u001b[0m\u001b[1;33m)\u001b[0m\u001b[1;33m\u001b[0m\u001b[1;33m\u001b[0m\u001b[0m\n\u001b[0m\u001b[0;32m    213\u001b[0m \u001b[1;33m\u001b[0m\u001b[0m\n\u001b[0;32m    214\u001b[0m \u001b[1;33m\u001b[0m\u001b[0m\n",
      "\u001b[1;32m~\\Anaconda3\\lib\\site-packages\\pandas\\core\\internals\\construction.py\u001b[0m in \u001b[0;36marrays_to_mgr\u001b[1;34m(arrays, arr_names, index, columns, dtype)\u001b[0m\n\u001b[0;32m     59\u001b[0m     \u001b[0maxes\u001b[0m \u001b[1;33m=\u001b[0m \u001b[1;33m[\u001b[0m\u001b[0mensure_index\u001b[0m\u001b[1;33m(\u001b[0m\u001b[0mcolumns\u001b[0m\u001b[1;33m)\u001b[0m\u001b[1;33m,\u001b[0m \u001b[0mindex\u001b[0m\u001b[1;33m]\u001b[0m\u001b[1;33m\u001b[0m\u001b[1;33m\u001b[0m\u001b[0m\n\u001b[0;32m     60\u001b[0m \u001b[1;33m\u001b[0m\u001b[0m\n\u001b[1;32m---> 61\u001b[1;33m     \u001b[1;32mreturn\u001b[0m \u001b[0mcreate_block_manager_from_arrays\u001b[0m\u001b[1;33m(\u001b[0m\u001b[0marrays\u001b[0m\u001b[1;33m,\u001b[0m \u001b[0marr_names\u001b[0m\u001b[1;33m,\u001b[0m \u001b[0maxes\u001b[0m\u001b[1;33m)\u001b[0m\u001b[1;33m\u001b[0m\u001b[1;33m\u001b[0m\u001b[0m\n\u001b[0m\u001b[0;32m     62\u001b[0m \u001b[1;33m\u001b[0m\u001b[0m\n\u001b[0;32m     63\u001b[0m \u001b[1;33m\u001b[0m\u001b[0m\n",
      "\u001b[1;32m~\\Anaconda3\\lib\\site-packages\\pandas\\core\\internals\\managers.py\u001b[0m in \u001b[0;36mcreate_block_manager_from_arrays\u001b[1;34m(arrays, names, axes)\u001b[0m\n\u001b[0;32m   1669\u001b[0m         \u001b[1;32mreturn\u001b[0m \u001b[0mmgr\u001b[0m\u001b[1;33m\u001b[0m\u001b[1;33m\u001b[0m\u001b[0m\n\u001b[0;32m   1670\u001b[0m     \u001b[1;32mexcept\u001b[0m \u001b[0mValueError\u001b[0m \u001b[1;32mas\u001b[0m \u001b[0me\u001b[0m\u001b[1;33m:\u001b[0m\u001b[1;33m\u001b[0m\u001b[1;33m\u001b[0m\u001b[0m\n\u001b[1;32m-> 1671\u001b[1;33m         \u001b[0mconstruction_error\u001b[0m\u001b[1;33m(\u001b[0m\u001b[0mlen\u001b[0m\u001b[1;33m(\u001b[0m\u001b[0marrays\u001b[0m\u001b[1;33m)\u001b[0m\u001b[1;33m,\u001b[0m \u001b[0marrays\u001b[0m\u001b[1;33m[\u001b[0m\u001b[1;36m0\u001b[0m\u001b[1;33m]\u001b[0m\u001b[1;33m.\u001b[0m\u001b[0mshape\u001b[0m\u001b[1;33m,\u001b[0m \u001b[0maxes\u001b[0m\u001b[1;33m,\u001b[0m \u001b[0me\u001b[0m\u001b[1;33m)\u001b[0m\u001b[1;33m\u001b[0m\u001b[1;33m\u001b[0m\u001b[0m\n\u001b[0m\u001b[0;32m   1672\u001b[0m \u001b[1;33m\u001b[0m\u001b[0m\n\u001b[0;32m   1673\u001b[0m \u001b[1;33m\u001b[0m\u001b[0m\n",
      "\u001b[1;32m~\\Anaconda3\\lib\\site-packages\\pandas\\core\\internals\\managers.py\u001b[0m in \u001b[0;36mconstruction_error\u001b[1;34m(tot_items, block_shape, axes, e)\u001b[0m\n\u001b[0;32m   1689\u001b[0m         \u001b[1;32mraise\u001b[0m \u001b[0mValueError\u001b[0m\u001b[1;33m(\u001b[0m\u001b[1;34m\"Empty data passed with indices specified.\"\u001b[0m\u001b[1;33m)\u001b[0m\u001b[1;33m\u001b[0m\u001b[1;33m\u001b[0m\u001b[0m\n\u001b[0;32m   1690\u001b[0m     raise ValueError(\"Shape of passed values is {0}, indices imply {1}\".format(\n\u001b[1;32m-> 1691\u001b[1;33m         passed, implied))\n\u001b[0m\u001b[0;32m   1692\u001b[0m \u001b[1;33m\u001b[0m\u001b[0m\n\u001b[0;32m   1693\u001b[0m \u001b[1;33m\u001b[0m\u001b[0m\n",
      "\u001b[1;31mValueError\u001b[0m: Shape of passed values is (1, 2), indices imply (655864, 2)"
     ]
    }
   ],
   "source": [
    "\n",
    "\n",
    "\n",
    "confusion_matrix = pd.crosstab(y_test, y_pred, rownames=['Actual'], colnames=['Predicted'])\n",
    "\n",
    "\n",
    "sn.heatmap(confusion_matrix, annot=True)\n"
   ]
  },
  {
   "cell_type": "code",
   "execution_count": null,
   "metadata": {},
   "outputs": [],
   "source": [
    "sn.heatmap(confusion_matrix, annot=True)"
   ]
  },
  {
   "cell_type": "code",
   "execution_count": 36,
   "metadata": {},
   "outputs": [
    {
     "name": "stdout",
     "output_type": "stream",
     "text": [
      "Accuracy:  0.927558152299867\n"
     ]
    }
   ],
   "source": [
    "print('Accuracy: ',metrics.accuracy_score(y_test, y_pred))\n",
    "probs = probs[:, 1]"
   ]
  },
  {
   "cell_type": "code",
   "execution_count": 55,
   "metadata": {},
   "outputs": [],
   "source": [
    "probs = model.predict_proba(x_test)\n",
    "probs = probs[:, 1]\n"
   ]
  },
  {
   "cell_type": "code",
   "execution_count": 56,
   "metadata": {},
   "outputs": [
    {
     "name": "stdout",
     "output_type": "stream",
     "text": [
      "AUC: 1.00\n"
     ]
    }
   ],
   "source": [
    "auc = roc_auc_score(y_test, probs)\n",
    "print('AUC: %.2f' % auc)"
   ]
  },
  {
   "cell_type": "code",
   "execution_count": 57,
   "metadata": {},
   "outputs": [],
   "source": [
    "fpr, tpr, thresholds = roc_curve(y_test, probs)"
   ]
  },
  {
   "cell_type": "code",
   "execution_count": 58,
   "metadata": {},
   "outputs": [
    {
     "data": {
      "image/png": "[encoded data removed]",
      "text/plain": [
       "<Figure size 432x288 with 1 Axes>"
      ]
     },
     "metadata": {
      "needs_background": "light"
     },
     "output_type": "display_data"
    }
   ],
   "source": [
    "plot_roc_curve(fpr, tpr)"
   ]
  },
  {
   "cell_type": "code",
   "execution_count": 45,
   "metadata": {},
   "outputs": [],
   "source": [
    "from sklearn.datasets import make_classification\n",
    "from sklearn.neighbors import KNeighborsClassifier\n",
    "from sklearn.ensemble import RandomForestClassifier\n",
    "from sklearn.model_selection import train_test_split\n",
    "from sklearn.metrics import roc_curve\n",
    "from sklearn.metrics import roc_auc_score\n"
   ]
  },
  {
   "cell_type": "code",
   "execution_count": 47,
   "metadata": {},
   "outputs": [],
   "source": [
    "def plot_roc_curve(fpr, tpr):\n",
    "    plt.plot(fpr, tpr, color='orange', label='ROC')\n",
    "    plt.plot([0, 1], [0, 1], color='darkblue', linestyle='--')\n",
    "    plt.xlabel('False Positive Rate')\n",
    "    plt.ylabel('True Positive Rate')\n",
    "    plt.title('Receiver Operating Characteristic (ROC) Curve')\n",
    "    plt.legend()\n",
    "    plt.show()"
   ]
  },
  {
   "cell_type": "code",
   "execution_count": 48,
   "metadata": {},
   "outputs": [],
   "source": [
    "#RANDOM FOREST \n",
    "\n",
    "\n",
    "\n",
    "\n",
    "trainX, testX, trainy, testy = train_test_split(x, y, test_size=0.3, random_state=1)"
   ]
  },
  {
   "cell_type": "code",
   "execution_count": 49,
   "metadata": {},
   "outputs": [
    {
     "name": "stderr",
     "output_type": "stream",
     "text": [
      "C:\\Users\\Federico\\Anaconda3\\lib\\site-packages\\sklearn\\ensemble\\forest.py:246: FutureWarning: The default value of n_estimators will change from 10 in version 0.20 to 100 in 0.22.\n",
      "  \"10 in version 0.20 to 100 in 0.22.\", FutureWarning)\n",
      "C:\\Users\\Federico\\Anaconda3\\lib\\site-packages\\ipykernel_launcher.py:2: DataConversionWarning: A column-vector y was passed when a 1d array was expected. Please change the shape of y to (n_samples,), for example using ravel().\n",
      "  \n"
     ]
    },
    {
     "data": {
      "text/plain": [
       "RandomForestClassifier(bootstrap=True, class_weight=None, criterion='gini',\n",
       "            max_depth=None, max_features='auto', max_leaf_nodes=None,\n",
       "            min_impurity_decrease=0.0, min_impurity_split=None,\n",
       "            min_samples_leaf=1, min_samples_split=2,\n",
       "            min_weight_fraction_leaf=0.0, n_estimators=10, n_jobs=None,\n",
       "            oob_score=False, random_state=None, verbose=0,\n",
       "            warm_start=False)"
      ]
     },
     "execution_count": 49,
     "metadata": {},
     "output_type": "execute_result"
    }
   ],
   "source": [
    "model = RandomForestClassifier()\n",
    "model.fit(trainX, trainy)"
   ]
  },
  {
   "cell_type": "code",
   "execution_count": 50,
   "metadata": {},
   "outputs": [],
   "source": [
    "probs = model.predict_proba(testX)"
   ]
  },
  {
   "cell_type": "code",
   "execution_count": 51,
   "metadata": {},
   "outputs": [],
   "source": [
    "probs = probs[:, 1]"
   ]
  },
  {
   "cell_type": "code",
   "execution_count": 52,
   "metadata": {},
   "outputs": [
    {
     "name": "stdout",
     "output_type": "stream",
     "text": [
      "AUC: 1.00\n"
     ]
    }
   ],
   "source": [
    "auc = roc_auc_score(testy, probs)\n",
    "print('AUC: %.2f' % auc)"
   ]
  },
  {
   "cell_type": "code",
   "execution_count": 53,
   "metadata": {},
   "outputs": [],
   "source": [
    "fpr, tpr, thresholds = roc_curve(testy, probs)"
   ]
  },
  {
   "cell_type": "code",
   "execution_count": 54,
   "metadata": {},
   "outputs": [
    {
     "data": {
      "image/png": "[encoded data removed]",
      "text/plain": [
       "<Figure size 432x288 with 1 Axes>"
      ]
     },
     "metadata": {
      "needs_background": "light"
     },
     "output_type": "display_data"
    }
   ],
   "source": [
    "plot_roc_curve(fpr, tpr)"
   ]
  },
  {
   "cell_type": "code",
   "execution_count": null,
   "metadata": {},
   "outputs": [],
   "source": []
  },
  {
   "cell_type": "code",
   "execution_count": null,
   "metadata": {},
   "outputs": [],
   "source": []
  }
 ],
 "metadata": {
  "kernelspec": {
   "display_name": "Python 3",
   "language": "python",
   "name": "python3"
  },
  "language_info": {
   "codemirror_mode": {
    "name": "ipython",
    "version": 3
   },
   "file_extension": ".py",
   "mimetype": "text/x-python",
   "name": "python",
   "nbconvert_exporter": "python",
   "pygments_lexer": "ipython3",
   "version": "3.7.3"
  }
 },
 "nbformat": 4,
 "nbformat_minor": 2
}
