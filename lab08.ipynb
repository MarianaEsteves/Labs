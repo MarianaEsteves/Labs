{
 "cells": [
  {
   "cell_type": "markdown",
   "metadata": {},
   "source": [
    "# Lab 8 \n",
    "\n",
    "A simple chatbot\n",
    "\n",
    "**1.** Create a function that asks the user his name and says Hello, John Doe\n",
    "\n",
    "**2.** Create a function called chat that ask the user what is his problem and will answer \"yes of course\"\n",
    "\n",
    "**3.** Create a function called chat that ask the user what is his problem and will answer randomly among 6 possible answers\n",
    "\n",
    "**4.** Put all together and improve\n"
   ]
  },
  {
   "cell_type": "markdown",
   "metadata": {},
   "source": [
    "**1.** Create a function that ask the user his name and says Hello, John Doe"
   ]
  },
  {
   "cell_type": "code",
   "execution_count": 13,
   "metadata": {},
   "outputs": [
    {
     "name": "stdout",
     "output_type": "stream",
     "text": [
      "what is your name?federico \n"
     ]
    },
    {
     "data": {
      "text/plain": [
       "'nice to meet you  federico '"
      ]
     },
     "execution_count": 13,
     "metadata": {},
     "output_type": "execute_result"
    }
   ],
   "source": [
    "# Create a function that ask the user his name and says Hello, John Doe\n",
    "\n",
    "def chat(question,answear):\n",
    "    msg = \" \"\n",
    "    while msg == \" \":\n",
    "          msg= input(question)\n",
    "    return str(answear)+\"  \"+str(msg)\n",
    "chat(\"what is your name?\",\"nice to meet you\")\n"
   ]
  },
  {
   "cell_type": "markdown",
   "metadata": {},
   "source": [
    "**2.** Create a function called chat that ask the user what is his problem and will answer \"yes of course\""
   ]
  },
  {
   "cell_type": "code",
   "execution_count": 17,
   "metadata": {},
   "outputs": [
    {
     "name": "stdout",
     "output_type": "stream",
     "text": [
      "which is your problem?problem \n"
     ]
    },
    {
     "data": {
      "text/plain": [
       "'yes of course'"
      ]
     },
     "execution_count": 17,
     "metadata": {},
     "output_type": "execute_result"
    }
   ],
   "source": [
    "# Create a function called chat that ask the user what is his problem and will answer \"yes of course\"\n",
    "def chat (): \n",
    "    problem= \" \"\n",
    "    while problem !=\"bye\":\n",
    "        problem = input(\"what is your problem?\")\n",
    "        print(\"yes, of course\")\n",
    "chat()"
   ]
  },
  {
   "cell_type": "markdown",
   "metadata": {},
   "source": [
    "**3.** Create a function called chat that ask the user what is his problem and will answer randomly among 6 possible answers"
   ]
  },
  {
   "cell_type": "code",
   "execution_count": 21,
   "metadata": {},
   "outputs": [],
   "source": [
    "# Create a function called chat that ask the user what is his problem and will answer randomly among 6 possible answers\n",
    "ANSWER=(\"YO\",\"BYE\",\"GUESS\",\"MISS YOU\",\"LOVE YOU\")\n",
    "import random as rd \n",
    "def chat(question,answear):\n",
    "    msg= \" \"\n",
    "    while msg==\" \":\n",
    "        msg(input(question))\n",
    "    "
   ]
  },
  {
   "cell_type": "markdown",
   "metadata": {},
   "source": [
    "**4.** Put all together and improve"
   ]
  },
  {
   "cell_type": "code",
   "execution_count": 11,
   "metadata": {},
   "outputs": [
    {
     "name": "stdout",
     "output_type": "stream",
     "text": [
      "what is you problem?yo \n",
      "dwhoiwj\n",
      "what is you problem?ye \n",
      "you will be fine\n",
      "what is you problem?ok \n",
      "dwhoiwj\n",
      "what is you problem?ok \n",
      "you will be fine\n",
      "what is you problem?ok\n",
      "dwhoiwj\n"
     ]
    }
   ],
   "source": [
    "import random\n",
    "randomanswears=(\"you will be fine\",\"dwhoiwj\",\"cjsaj\")\n",
    "\n",
    "def chat():\n",
    "    problem = \"\"\n",
    "    while problem != \"ok\":\n",
    "        problem=input(\"what is you problem?\")\n",
    "        print(random.choice(randomanswears))\n",
    "chat() "
   ]
  },
  {
   "cell_type": "code",
   "execution_count": null,
   "metadata": {},
   "outputs": [],
   "source": [
    "import random\n",
    "randomanswears=(\"you will be fine\",\"dwhoiwj\",\"cjsaj\")\n",
    "\n",
    "def randchat(): \n",
    "    question= input (\"what is your problem?\")\n",
    "    print(randomanswears(random.randint(0,2)))\n",
    "\n",
    "randchat()"
   ]
  },
  {
   "cell_type": "code",
   "execution_count": null,
   "metadata": {},
   "outputs": [],
   "source": [
    "a = (\"w\",\"t\",\"r\")\n",
    "print(a[1])"
   ]
  },
  {
   "cell_type": "code",
   "execution_count": null,
   "metadata": {},
   "outputs": [],
   "source": []
  }
 ],
 "metadata": {
  "kernelspec": {
   "display_name": "Python 3",
   "language": "python",
   "name": "python3"
  },
  "language_info": {
   "codemirror_mode": {
    "name": "ipython",
    "version": 3
   },
   "file_extension": ".py",
   "mimetype": "text/x-python",
   "name": "python",
   "nbconvert_exporter": "python",
   "pygments_lexer": "ipython3",
   "version": "3.7.3"
  }
 },
 "nbformat": 4,
 "nbformat_minor": 2
}
