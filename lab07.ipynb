{
 "cells": [
  {
   "cell_type": "markdown",
   "metadata": {},
   "source": [
    "# Lab 7\n",
    "* calculate NPV. The rate is a float and the cash flows and investment are in a list.\n",
    "* create a function called NPV to calculate NPV\n",
    "* create a function to calcule IRR. In order to calculate IRR you may aproximate the follwoing expression:\n",
    "rate= rate*(1-NPV(CFList, rate)/invest)\n",
    "* create a function for payback period"
   ]
  },
  {
   "cell_type": "code",
   "execution_count": 7,
   "metadata": {},
   "outputs": [],
   "source": [
    "#Supose you have the follwoing cashflow\n",
    "CFList=[-1000, 200, 200, 300, 500]\n",
    "rate= 0.04\n",
    "NPV= 0"
   ]
  },
  {
   "cell_type": "code",
   "execution_count": 8,
   "metadata": {},
   "outputs": [],
   "source": [
    "#calcule the NPV sugestion: iterate both by index and value using enumerate\n",
    " \n",
    "for t, cf in enumerate(CFList):\n",
    "    NPV= NPV+ cf/((1+rate)**t)"
   ]
  },
  {
   "cell_type": "code",
   "execution_count": 9,
   "metadata": {},
   "outputs": [
    {
     "name": "stdout",
     "output_type": "stream",
     "text": [
      "71.3199380273798\n"
     ]
    }
   ],
   "source": [
    "print(NPV)"
   ]
  },
  {
   "cell_type": "code",
   "execution_count": 12,
   "metadata": {},
   "outputs": [],
   "source": [
    "#create a function called NPV that returns the NPV value\n",
    "def NPV (cashflows, discountRate) :\n",
    "    pv=0\n",
    "    for t, cf in enumerate (cashflows):\n",
    "        pv += cf/((1+discountRate)**t)\n",
    "    return(pv)    "
   ]
  },
  {
   "cell_type": "code",
   "execution_count": 13,
   "metadata": {},
   "outputs": [
    {
     "name": "stdout",
     "output_type": "stream",
     "text": [
      "71.3199380273798\n"
     ]
    }
   ],
   "source": [
    "print(NPV(CFList, rate))"
   ]
  },
  {
   "cell_type": "code",
   "execution_count": 20,
   "metadata": {},
   "outputs": [
    {
     "name": "stdout",
     "output_type": "stream",
     "text": [
      "0.06542842804025385\n"
     ]
    }
   ],
   "source": [
    "def IRR(CFList):\n",
    "    rate =1\n",
    "    for i in range (1,1000):\n",
    "        rate = rate*(1- NPV (CFList,rate)/CFList[0])\n",
    "    return rate\n",
    "\n",
    "print(IRR(CFList))"
   ]
  },
  {
   "cell_type": "code",
   "execution_count": 157,
   "metadata": {},
   "outputs": [
    {
     "name": "stdout",
     "output_type": "stream",
     "text": [
      "0.06542842804025384\n"
     ]
    }
   ],
   "source": [
    "print(irr(CFList))"
   ]
  },
  {
   "cell_type": "code",
   "execution_count": 35,
   "metadata": {},
   "outputs": [
    {
     "name": "stdout",
     "output_type": "stream",
     "text": [
      "[-1000, -800, -600, -300, 200]\n",
      "1\n",
      "0.6\n"
     ]
    }
   ],
   "source": [
    "#pay back period\n",
    "\n",
    "CCF=[]\n",
    "CCF.append(CFList[0])\n",
    "\n",
    "for i in range(1, len(CFList)):\n",
    "    CCF.append((CCF[i-1]+CFList[i]))\n",
    "            \n",
    "print(CCF)\n",
    "            \n",
    "PBPeriod=[1 for i, x in enumerate(CCF) if x>0]    \n",
    "print(PBPeriod[0])\n",
    "\n",
    "PBPeriodexact=PBPeriod[0]-1+(CCF[-2]*(-1))/(CCF[-1]-CCF[-2])\n",
    "print(PBPeriodexact)"
   ]
  },
  {
   "cell_type": "code",
   "execution_count": null,
   "metadata": {},
   "outputs": [],
   "source": []
  }
 ],
 "metadata": {
  "kernelspec": {
   "display_name": "Python 3",
   "language": "python",
   "name": "python3"
  },
  "language_info": {
   "codemirror_mode": {
    "name": "ipython",
    "version": 3
   },
   "file_extension": ".py",
   "mimetype": "text/x-python",
   "name": "python",
   "nbconvert_exporter": "python",
   "pygments_lexer": "ipython3",
   "version": "3.7.3"
  }
 },
 "nbformat": 4,
 "nbformat_minor": 2
}
